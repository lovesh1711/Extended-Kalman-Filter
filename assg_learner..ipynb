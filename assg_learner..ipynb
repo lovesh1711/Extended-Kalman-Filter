{
 "cells": [
  {
   "cell_type": "markdown",
   "metadata": {},
   "source": [
    "## Introduction\n",
    "-----\n",
    "\n",
    "In this assignment you will recursively estimate the position of a vehicle along a trajectory using available measurements and a motion model. \n",
    "\n",
    "The vehicle is equipped with a very simple type of LIDAR sensor, which returns range and bearing measurements corresponding to individual landmarks in the environment. The global positions of the landmarks are assumed to be known beforehand. We will also assume known data association, that is, which measurment belong to which landmark.\n",
    "\n",
    "## Motion and Measurement Models\n",
    "-----\n",
    "\n",
    "### Motion Model\n",
    "\n",
    "The vehicle motion model recieves linear and angular velocity odometry readings as inputs, and outputs the state (i.e., the 2D pose) of the vehicle:\n",
    "\n",
    "\\begin{align}\n",
    "\\mathbf{x}_{k} &= \\mathbf{x}_{k-1} + T\n",
    "\\begin{bmatrix}\n",
    "\\cos\\theta_{k-1} &0 \\\\\n",
    "\\sin\\theta_{k-1} &0 \\\\\n",
    "0 &1\n",
    "\\end{bmatrix}\n",
    "\\left(\n",
    "\\begin{bmatrix}\n",
    "v_k \\\\\n",
    "\\omega_k\n",
    "\\end{bmatrix}\n",
    "+ \\mathbf{w}_k\n",
    "\\right)\n",
    "\\, , \\, \\, \\, \\, \\, \\mathbf{w}_k = \\mathcal{N}\\left(\\mathbf{0}, \\mathbf{Q}\\right)\n",
    "\\end{align}\n",
    "\n",
    "- $\\mathbf{x}_k = \\left[ x \\, y \\, \\theta \\right]^T$ is the current 2D pose of the vehicle\n",
    "- $v_k$ and $\\omega_k$ are the linear and angular velocity odometry readings, which we use as inputs to the model\n",
    "\n",
    "The process noise $\\mathbf{w}_k$ has a (zero mean) normal distribution with a constant covariance $\\mathbf{Q}$.\n",
    "\n",
    "### Measurement Model\n",
    "\n",
    "The measurement model relates the current pose of the vehicle to the LIDAR range and bearing measurements $\\mathbf{y}^l_k = \\left[r \\, \\phi \\right]^T$.\n",
    "\n",
    "\\begin{align}\n",
    "\\mathbf{y}^l_k =\n",
    "\\begin{bmatrix}\n",
    "\\sqrt{(x_l - x_k - d\\cos\\theta_{k})^2 + (y_l - y_k - d\\sin\\theta_{k})^2} \\\\\n",
    "atan2\\left(y_l - y_k - d\\sin\\theta_{k},x_l - x_k - d\\cos\\theta_{k}\\right) - \\theta_k\n",
    "\\end{bmatrix}\n",
    "+\n",
    "\\mathbf{n}^l_k\n",
    "\\, , \\, \\, \\, \\, \\, \\mathbf{n}^l_k = \\mathcal{N}\\left(\\mathbf{0}, \\mathbf{R}\\right)\n",
    "\\end{align}\n",
    "\n",
    "- $x_l$ and $y_l$ are the ground truth coordinates of the landmark $l$\n",
    "- $x_k$ and $y_k$ and $\\theta_{k}$ represent the current pose of the vehicle\n",
    "- $d$ is the known distance between robot center and laser rangefinder (LIDAR)\n",
    "\n",
    "The landmark measurement noise $\\mathbf{n}^l_k$ has a (zero mean) normal distribution with a constant covariance $\\mathbf{R}$.\n",
    "\n",
    "## Getting Started\n",
    "-----\n",
    "\n",
    "Since the models above are nonlinear, we recommend using the extended Kalman filter (EKF) as the state estimator.\n",
    "Specifically, you will need to provide code implementing the following steps:\n",
    "- the prediction step, which uses odometry measurements and the motion model to produce a state and covariance estimate at a given timestep, and\n",
    "- the correction step, which uses the range and bearing measurements provided by the LIDAR to correct the pose and pose covariance estimates\n",
    "\n",
    "### Unpack the Data\n",
    "First, let's unpack the available data:"
   ]
  },
  {
   "cell_type": "code",
   "execution_count": 1,
   "metadata": {},
   "outputs": [],
   "source": [
    "import pickle\n",
    "import numpy as np\n",
    "import matplotlib.pyplot as plt\n",
    "import math\n",
    "\n",
    "with open('data/data.pickle', 'rb') as f:\n",
    "    data = pickle.load(f)\n",
    "\n",
    "t = data['t']  # timestamps [s]\n",
    "# print(len(t))\n",
    "x_init  = data['x_init'] # initial x position [m]\n",
    "y_init  = data['y_init'] # initial y position [m]\n",
    "th_init = data['th_init'] # initial theta position [rad]\n",
    "\n",
    "# input signal\n",
    "v  = data['v']  # translational velocity input [m/s]\n",
    "om = data['om']  # rotational velocity input [rad/s]\n",
    "\n",
    "# print(v[2])\n",
    "\n",
    "# bearing and range measurements, LIDAR constants\n",
    "b = data['b']  # bearing to each landmarks center in the frame attached to the laser [rad]\n",
    "r = data['r']  # range measurements [m]\n",
    "l = data['l']  # x,y positions of landmarks [m]\n",
    "d = data['d']  # distance between robot center and laser rangefinder [m]\n",
    "# print(d)\n",
    "# print(r[0])"
   ]
  },
  {
   "cell_type": "markdown",
   "metadata": {},
   "source": [
    "Note that distance from the LIDAR frame to the robot center is provided and loaded as an array into the `d` variable.\n",
    "\n",
    "### Ground Truth\n",
    "If available, it is useful to plot the ground truth position and orientation before starting the assignment.\n",
    "\n",
    "<table><tr>\n",
    "<td> <img src=\"data/gtruth.png\" alt=\"Ground Truth\" width=\"350\"/> </td>\n",
    "<td> <img src=\"data/gtruth2.png\" alt=\"Ground Truth\" width=\"350\"/> </td>\n",
    "</tr></table>\n",
    "\n",
    "Notice that the orientation values are wrapped to the $\\left[-\\pi,\\pi\\right]$ range in radians."
   ]
  },
  {
   "cell_type": "markdown",
   "metadata": {},
   "source": [
    "### Initializing Parameters\n",
    "\n",
    "Now that our data is loaded, we can begin getting things set up for our solver. One of the\n",
    "most important aspects of designing a filter is determining the input and measurement noise covariance matrices, as well as the initial state and covariance values. We set the values here:"
   ]
  },
  {
   "cell_type": "code",
   "execution_count": 2,
   "metadata": {},
   "outputs": [],
   "source": [
    "v_var = 0.01  # translation velocity variance  \n",
    "\n",
    "\n",
    "om_var = 0.01 # rotational velocity variance \n",
    "r_var = 0.001  # range measurements variance\n",
    "b_var = 0.001  # bearing measurement variance\n",
    "\n",
    "Q_km = np.diag([v_var, om_var]) # input noise covariance \n",
    "cov_y = np.diag([r_var, b_var])  # measurement noise covariance \n",
    "# print(cov_y)\n",
    "\n",
    "x_est = np.zeros([len(v), 1,3])  # estimated states, x, y, and theta\n",
    "P_est = np.zeros([len(v), 3, 3])  # state covariance matrices\n",
    "\n",
    "\n",
    "# F_mat= np.zeros([len(v), 3, 3]) \n",
    "# L_mat=np.zeros([len(v), 3, 2]) \n",
    "\n",
    "x_est[0] = np.array([x_init, y_init, th_init]) # initial state\n",
    "# print(x_est[0])\n",
    "# P_est[0] = np.diag([1, 1, 0.1]) # initial state covariance\n",
    "P_est[0] = np.diag([1, 0.1, 0.1]) # initial state covariance"
   ]
  },
  {
   "cell_type": "markdown",
   "metadata": {},
   "source": [
    "**Remember:** that it is neccessary to tune the measurement noise variances `r_var`, `b_var` in order for the filter to perform well!\n",
    "\n",
    "In order for the orientation estimates to coincide with the bearing measurements, it is also neccessary to wrap all estimated $\\theta$ values to the $(-\\pi , \\pi]$ range."
   ]
  },
  {
   "cell_type": "code",
   "execution_count": 3,
   "metadata": {},
   "outputs": [],
   "source": [
    "# Wraps angle to (-pi,pi] range\n",
    "def wraptopi(x):\n",
    "    if x > np.pi:\n",
    "        x = x - (np.floor(x / (2 * np.pi)) + 1) * 2 * np.pi\n",
    "    elif x < -np.pi:\n",
    "        x = x + (np.floor(x / (-2 * np.pi)) + 1) * 2 * np.pi\n",
    "    return x"
   ]
  },
  {
   "cell_type": "markdown",
   "metadata": {},
   "source": [
    "\n",
    "## Correction Step\n",
    "-----\n",
    "First, let's implement the measurement update function, which takes an available landmark measurement $l$ and updates the current state estimate $\\mathbf{\\check{x}}_k$.\n",
    "For each landmark measurement received at a given timestep $k$, you should implement the following steps:\n",
    "\n",
    "- Compute the measurement model Jacobians at $\\mathbf{\\check{x}}_{k}$\n",
    "\\begin{align}\n",
    "\\mathbf{y}^l_k = &\\mathbf{h}(\\mathbf{x}_{k}, \\mathbf{n}^l_k) \\\\\\\\\n",
    "\\mathbf{H}_{k} = \\frac{\\partial \\mathbf{h}}{\\partial \\mathbf{x}_{k}}\\bigg|_{\\mathbf{\\check{x}}_{k},0}& \\, , \\, \\, \\, \\,\n",
    "\\mathbf{M}_{k} = \\frac{\\partial \\mathbf{h}}{\\partial \\mathbf{n}_{k}}\\bigg|_{\\mathbf{\\check{x}}_{k},0} \\, .\n",
    "\\end{align}\n",
    "- Compute the Kalman Gain\n",
    "\\begin{align}\n",
    "\\mathbf{K}_k &= \\mathbf{\\check{P}}_k \\mathbf{H}_k^T \\left(\\mathbf{H}_k \\mathbf{\\check{P}}_k \\mathbf{H}_k^T + \\mathbf{M}_k \\mathbf{R}_k \\mathbf{M}_k^T \\right)^{-1} \n",
    "\\end{align}\n",
    "- Correct the predicted state\n",
    "\\begin{align}\n",
    "\\mathbf{\\check{y}}^l_k &= \\mathbf{h}\\left(\\mathbf{\\check{x}}_k, \\mathbf{0}\\right) \\\\\n",
    "\\mathbf{\\hat{x}}_k &= \\mathbf{\\check{x}}_k + \\mathbf{K}_k \\left(\\mathbf{y}^l_k - \\mathbf{\\check{y}}^l_k\\right)\n",
    "\\end{align}\n",
    "- Correct the covariance\n",
    "\\begin{align}\n",
    "\\mathbf{\\hat{P}}_k &= \\left(\\mathbf{I} - \\mathbf{K}_k \\mathbf{H}_k \\right)\\mathbf{\\check{P}}_k\n",
    "\\end{align}"
   ]
  },
  {
   "cell_type": "code",
   "execution_count": 4,
   "metadata": {},
   "outputs": [],
   "source": [
    "def measurement_update(lk, rk, bk, P_check, x_check):\n",
    "    \n",
    "    bk=wraptopi(bk)\n",
    "    x_k=x_check[0][0]\n",
    "    y_k=x_check[0][1]\n",
    "    x_check[0][2]=wraptopi(x_check[0][2])\n",
    "    th_k=x_check[0][2]\n",
    "    P_k=P_check\n",
    "    x_l=lk[0]\n",
    "    y_l=lk[1]\n",
    "    \n",
    "    \n",
    "    dy1_dx=(x_k-x_l)/(np.sqrt((x_k-x_l)**2+(y_k-y_l)**2))\n",
    "    dy1_dy=(y_k-y_l)/(np.sqrt((x_k-x_l)**2+(y_k-y_l)**2))\n",
    "    dy1_d_th=0\n",
    "    \n",
    "    \n",
    "    dy2_dx=-(y_k-y_l)/((x_k-x_l)**2+(y_k-y_l)**2)\n",
    "    dy2_dy=-(-x_k+x_l)/((x_k-x_l)**2+(y_k-y_l)**2)\n",
    "    dy2_d_th=-1\n",
    "    \n",
    "    A=wraptopi(np.arctan2((y_l-y_k),(x_l-x_k))-th_k)\n",
    "    \n",
    "    H_k=np.zeros((2,3))\n",
    "    H_k[0,0]=dy1_dx\n",
    "    H_k[0,1]=dy1_dy\n",
    "    H_k[0,2]=dy1_d_th\n",
    "    H_k[1,0]=dy2_dx\n",
    "    H_k[1,1]=dy2_dy\n",
    "    H_k[1,2]=dy2_d_th\n",
    "    \n",
    "    M_k=np.array([[1,1],[1,1]])\n",
    "    R_k=cov_y\n",
    "    \n",
    "    first_term= np.dot(np.dot(H_k,P_k),np.transpose(H_k))\n",
    "    second_term= np.dot(np.dot(M_k,R_k),np.transpose(M_k))\n",
    "    \n",
    "    a=first_term+cov_y\n",
    "    \n",
    "#     print(P_k)\n",
    "    \n",
    "    b=np.linalg.inv(a)\n",
    "    \n",
    "    c=np.dot(P_k,np.transpose(H_k))\n",
    "    K_k=np.dot(c,b)\n",
    "    \n",
    "    \n",
    "    y_k_given=np.array([[rk],[bk]])\n",
    "    \n",
    "    \n",
    "    \n",
    "    y_k_cap_d=np.sqrt((x_k-x_l)**2+(y_k-y_l)**2)\n",
    "    y_k_cap_angle=wraptopi(A)\n",
    "    \n",
    "    \n",
    "    \n",
    "    y_k_cap=np.array([[y_k_cap_d],[y_k_cap_angle]])\n",
    "    lovesh=np.dot(K_k,(y_k_given-y_k_cap))\n",
    "    \n",
    "    \n",
    "    \n",
    "    lovesh=np.transpose(lovesh)\n",
    "    \n",
    "    \n",
    "    x_check= x_check+lovesh\n",
    "    \n",
    "    x_check[0][2]=wraptopi(x_check[0][2])\n",
    "    \n",
    "    \n",
    "    identity_matrix=np.diag([1,1,1])\n",
    "#     identity_matrix=np.identity(3)\n",
    "#     identity\n",
    "    covariance_gain= identity_matrix-np.dot(K_k,H_k)\n",
    "    \n",
    "    \n",
    "    P_k= np.dot(covariance_gain,P_k)\n",
    "    \n",
    "    P_check=P_k\n",
    "  \n",
    "    \n",
    "    return x_check, P_check\n"
   ]
  },
  {
   "cell_type": "markdown",
   "metadata": {},
   "source": [
    "## Prediction Step\n",
    "-----\n",
    "Now, implement the main filter loop, defining the prediction step of the EKF using the motion model provided:\n",
    "\n",
    "\\begin{align}\n",
    "\\mathbf{\\check{x}}_k &= \\mathbf{f}\\left(\\mathbf{\\hat{x}}_{k-1}, \\mathbf{u}_{k-1}, \\mathbf{0} \\right) \\\\\n",
    "\\mathbf{\\check{P}}_k &= \\mathbf{F}_{k-1}\\mathbf{\\hat{P}}_{k-1}\\mathbf{F}_{k-1}^T + \\mathbf{L}_{k-1}\\mathbf{Q}_{k-1}\\mathbf{L}_{k-1}^T \\, .\n",
    "\\end{align}\n",
    "\n",
    "Where\n",
    "\n",
    "\\begin{align}\n",
    "\\mathbf{F}_{k-1} = \\frac{\\partial \\mathbf{f}}{\\partial \\mathbf{x}_{k-1}}\\bigg|_{\\mathbf{\\hat{x}}_{k-1},\\mathbf{u}_{k},0}  \\, , \\, \\, \\, \\,\n",
    "\\mathbf{L}_{k-1} = \\frac{\\partial \\mathbf{f}}{\\partial \\mathbf{w}_{k}}\\bigg|_{\\mathbf{\\hat{x}}_{k-1},\\mathbf{u}_{k},0} \\, .\n",
    "\\end{align}"
   ]
  },
  {
   "cell_type": "code",
   "execution_count": 6,
   "metadata": {},
   "outputs": [],
   "source": [
    "#### 5. Main Filter Loop #######################################################################\n",
    "for k in range(1, len(t)):  # start at 1 because we've set the initial prediciton\n",
    "\n",
    "    delta_t = t[k] - t[k - 1]  # time step (difference between timestamps)\n",
    "    T=delta_t\n",
    "\n",
    "    theta_inst=x_est[k-1][0][2]\n",
    "    \n",
    "    \n",
    "    theta_inst=wraptopi(theta_inst)\n",
    "    \n",
    "    arr_1= np.array([[np.cos(theta_inst),0],[np.sin(theta_inst),0],[0,1]])\n",
    "    \n",
    "    input_mat=np.array([[v[k]],[om[k]]])\n",
    "    \n",
    "    bich_ki_matrix=delta_t*(np.dot(arr_1,input_mat))\n",
    "\n",
    "    x_est[k]= x_est[k-1] + np.transpose(bich_ki_matrix)\n",
    "\n",
    "    F_mat= np.array([[1,0,-T*v[k]*np.sin(theta_inst)],[0,1,T*v[k]*np.cos(theta_inst)],[0,0,1]])\n",
    "    \n",
    "    L_mat= np.array([[(np.cos(theta_inst)),0],[(np.sin(theta_inst)),0],[0,1]])\n",
    "    \n",
    "    L_mat=T*L_mat\n",
    "\n",
    "    first_term= np.dot(F_mat,np.dot(P_est[k-1],np.transpose(F_mat)))\n",
    "    \n",
    "    second_term= np.dot(L_mat,np.dot(Q_km,np.transpose(L_mat)))\n",
    "    \n",
    "    \n",
    "    \n",
    "    P_est[k]= first_term + second_term\n",
    "    \n",
    "    \n",
    "    \n",
    "    \n",
    "    # 1. Update state with odometry readings (remember to wrap the angles to [-pi,pi])\n",
    "    x_check = np.zeros((1,3))\n",
    "    \n",
    "    \n",
    "    \n",
    "    x_check[0][2]=  wraptopi(x_est[k][0][2])\n",
    "    x_check[0][0]=  x_est[k][0][0]\n",
    "    x_check[0][1]=  x_est[k][0][1]\n",
    "    \n",
    "\n",
    "    \n",
    "    P_check= P_est[k]\n",
    "    \n",
    "    # 2. Motion model jacobian with respect to last state\n",
    "#     F_km = np.zeros([3, 3])\n",
    "\n",
    "    # 3. Motion model jacobian with respect to noise\n",
    "#     L_km = np.zeros([3, 2])\n",
    "\n",
    "    # 4. Propagate uncertainty\n",
    "\n",
    "    # 5. Update state estimate using available landmark measurements\n",
    "    for i in range(len(r[k])):\n",
    "\n",
    "        x_check, P_check = measurement_update(l[i], r[k, i], b[k, i], P_check, x_check)\n",
    "        \n",
    "\n",
    "    # Set final state predictions for timestep\n",
    "    x_est[k, 0,1] = x_check[0][0]\n",
    "    x_est[k, 0,1] = x_check[0][1]\n",
    "    x_est[k,0, 2] = x_check[0][2]\n",
    "    P_est[k, :, :] = P_check"
   ]
  },
  {
   "cell_type": "markdown",
   "metadata": {},
   "source": [
    "Let's plot the resulting state estimates:"
   ]
  },
  {
   "cell_type": "code",
   "execution_count": 7,
   "metadata": {},
   "outputs": [
    {
     "data": {
      "image/png": "[encoded data removed]",
      "text/plain": [
       "<Figure size 432x288 with 1 Axes>"
      ]
     },
     "metadata": {
      "needs_background": "light"
     },
     "output_type": "display_data"
    },
    {
     "data": {
      "image/png": "[encoded data removed]",
      "text/plain": [
       "<Figure size 432x288 with 1 Axes>"
      ]
     },
     "metadata": {
      "needs_background": "light"
     },
     "output_type": "display_data"
    }
   ],
   "source": [
    "e_fig = plt.figure()\n",
    "ax = e_fig.add_subplot(111)\n",
    "ax.plot(x_est[:,0, 0], x_est[:, 0,1])\n",
    "ax.set_xlabel('x [m]')\n",
    "ax.set_ylabel('y [m]')\n",
    "ax.set_title('Estimated trajectory')\n",
    "plt.show()\n",
    "\n",
    "e_fig = plt.figure()\n",
    "ax = e_fig.add_subplot(111)\n",
    "ax.plot(t[:], x_est[:,0, 2])\n",
    "ax.set_xlabel('Time [s]')\n",
    "ax.set_ylabel('theta [rad]')\n",
    "ax.set_title('Estimated trajectory')\n",
    "plt.show()"
   ]
  },
  {
   "cell_type": "markdown",
   "metadata": {},
   "source": [
    "Are you satisfied wth your results? The resulting trajectory should closely resemble the ground truth, with minor \"jumps\" in the orientation estimate due to angle wrapping. If this is the case, run the code below to produce your solution file."
   ]
  },
  {
   "cell_type": "code",
   "execution_count": 8,
   "metadata": {},
   "outputs": [],
   "source": [
    "with open('submission.pkl', 'wb') as f:\n",
    "    pickle.dump(x_est, f, pickle.HIGHEST_PROTOCOL)"
   ]
  },
  {
   "cell_type": "code",
   "execution_count": 9,
   "metadata": {},
   "outputs": [
    {
     "data": {
      "text/latex": [
       "$$\\left[\\begin{matrix}\\frac{x_{k} - xl}{\\sqrt{\\left(- x_{k} + xl\\right)^{2} + \\left(- y_{k} + yl\\right)^{2}}} & \\frac{y_{k} - yl}{\\sqrt{\\left(- x_{k} + xl\\right)^{2} + \\left(- y_{k} + yl\\right)^{2}}} & 0\\\\- \\frac{y_{k} - yl}{\\left(- x_{k} + xl\\right)^{2} + \\left(- y_{k} + yl\\right)^{2}} & - \\frac{- x_{k} + xl}{\\left(- x_{k} + xl\\right)^{2} + \\left(- y_{k} + yl\\right)^{2}} & -1\\end{matrix}\\right]$$"
      ],
      "text/plain": [
       "⎡           xₖ - xl                         yₖ - yl                ⎤\n",
       "⎢──────────────────────────────  ──────────────────────────────  0 ⎥\n",
       "⎢   ___________________________     ___________________________    ⎥\n",
       "⎢  ╱           2             2     ╱           2             2     ⎥\n",
       "⎢╲╱  (-xₖ + xl)  + (-yₖ + yl)    ╲╱  (-xₖ + xl)  + (-yₖ + yl)      ⎥\n",
       "⎢                                                                  ⎥\n",
       "⎢         -(yₖ - yl)                      -(-xₖ + xl)              ⎥\n",
       "⎢  ─────────────────────────       ─────────────────────────     -1⎥\n",
       "⎢            2             2                 2             2       ⎥\n",
       "⎣  (-xₖ + xl)  + (-yₖ + yl)        (-xₖ + xl)  + (-yₖ + yl)        ⎦"
      ]
     },
     "execution_count": 9,
     "metadata": {},
     "output_type": "execute_result"
    }
   ],
   "source": [
    "import sympy as sp\n",
    "from sympy import *\n",
    "import math\n",
    "\n",
    "xl,yl,d,theta,x_k,y_k=symbols('xl yl d theta_k x_k y_k')\n",
    "sp.init_printing(use_latex=True)\n",
    "X_K=sp.Matrix([[sqrt((xl-x_k)**2+(yl-y_k)**2)],[atan2((yl-y_k),(xl-x_k))-theta]])\n",
    "state=sp.Matrix([x_k,y_k,theta])\n",
    "# sp.Matrix([[atan2((yl-y_k-d*sin(theta)),(xl-x_k-d*cos(theta)))-theta]])\n",
    "# print(X_K)\n",
    "X_K.jacobian(state)"
   ]
  },
  {
   "cell_type": "code",
   "execution_count": 10,
   "metadata": {},
   "outputs": [
    {
     "data": {
      "text/latex": [
       "$$\\left[\\begin{matrix}T \\cos{\\left (\\theta_{k-1} \\right )} & 0\\\\T \\sin{\\left (\\theta_{k-1} \\right )} & 0\\\\0 & T\\end{matrix}\\right]$$"
      ],
      "text/plain": [
       "⎡T⋅cos(θₖ₋₁)  0⎤\n",
       "⎢              ⎥\n",
       "⎢T⋅sin(θₖ₋₁)  0⎥\n",
       "⎢              ⎥\n",
       "⎣     0       T⎦"
      ]
     },
     "execution_count": 10,
     "metadata": {},
     "output_type": "execute_result"
    }
   ],
   "source": [
    "import sympy as sp\n",
    "from sympy import *\n",
    "import math\n",
    "\n",
    "xl,yl,d,theta,x_k,y_k,v_k,w_k,T,a,b=symbols('xl yl d theta_k-1 x_k y_k v_k w_k T a b')\n",
    "sp.init_printing(use_latex=True)\n",
    "\n",
    "# X_K=sp.Matrix([[v_k],[w_k]])+sp.Matrix([[a],[b]])\n",
    "X_K=sp.Matrix([[x_k],[y_k],[theta]])+T*sp.Matrix([[cos(theta),0],[sin(theta),0],[0,1]])@(sp.Matrix([[v_k],[w_k]])+sp.Matrix([[a],[b]]))\n",
    "state=sp.Matrix([a,b])\n",
    "# sp.Matrix([[atan2((yl-y_k-d*sin(theta)),(xl-x_k-d*cos(theta)))-theta]])\n",
    "# X_K\n",
    "X_K.jacobian(state)"
   ]
  }
 ],
 "metadata": {
  "kernelspec": {
   "display_name": "Python 3",
   "language": "python",
   "name": "python3"
  },
  "language_info": {
   "codemirror_mode": {
    "name": "ipython",
    "version": 3
   },
   "file_extension": ".py",
   "mimetype": "text/x-python",
   "name": "python",
   "nbconvert_exporter": "python",
   "pygments_lexer": "ipython3",
   "version": "3.7.1"
  }
 },
 "nbformat": 4,
 "nbformat_minor": 1
}
